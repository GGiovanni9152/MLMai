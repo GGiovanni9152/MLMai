{
  "cells": [
    {
      "cell_type": "markdown",
      "metadata": {
        "id": "u_RpqYQEb6I2"
      },
      "source": [
        "# Деревья решений"
      ]
    },
    {
      "cell_type": "markdown",
      "metadata": {
        "id": "fO6xDg72cZKk"
      },
      "source": [
        "На этом семинаре попробуем сами написать дерево решений для решения задачи классификации на популярном датасете Iris"
      ]
    },
    {
      "cell_type": "code",
      "execution_count": 10,
      "metadata": {
        "id": "QiFbZL6gcY0E"
      },
      "outputs": [],
      "source": [
        "import pandas as pd\n",
        "import numpy as np\n",
        "\n",
        "from sklearn.datasets import load_iris"
      ]
    },
    {
      "cell_type": "code",
      "execution_count": 2,
      "metadata": {
        "id": "bh7T9ZYWcp9E",
        "colab": {
          "base_uri": "https://localhost:8080/"
        },
        "outputId": "3e87f022-d4a2-4d73-a51d-a650691e0b49"
      },
      "outputs": [
        {
          "output_type": "stream",
          "name": "stdout",
          "text": [
            "150\n"
          ]
        }
      ],
      "source": [
        "iris_dataset = load_iris()\n",
        "\n",
        "df = pd.DataFrame(data=iris_dataset.data, columns=iris_dataset.feature_names)\n",
        "df['target'] = iris_dataset.target\n",
        "df['target'] = df.target.apply(lambda v: iris_dataset.target_names[v])\n",
        "\n",
        "print(len(df))"
      ]
    },
    {
      "cell_type": "code",
      "execution_count": 20,
      "metadata": {
        "id": "k4TOdqGBcx8k",
        "colab": {
          "base_uri": "https://localhost:8080/",
          "height": 206
        },
        "outputId": "6928a6e9-57d1-447b-8364-d02da719f5f6"
      },
      "outputs": [
        {
          "output_type": "execute_result",
          "data": {
            "text/plain": [
              "   sepal length (cm)  sepal width (cm)  petal length (cm)  petal width (cm)  \\\n",
              "0                5.1               3.5                1.4               0.2   \n",
              "1                4.9               3.0                1.4               0.2   \n",
              "2                4.7               3.2                1.3               0.2   \n",
              "3                4.6               3.1                1.5               0.2   \n",
              "4                5.0               3.6                1.4               0.2   \n",
              "\n",
              "   target  \n",
              "0  setosa  \n",
              "1  setosa  \n",
              "2  setosa  \n",
              "3  setosa  \n",
              "4  setosa  "
            ],
            "text/html": [
              "\n",
              "  <div id=\"df-4b95bb14-f3b1-4f05-b5e7-c4f8d98c3877\">\n",
              "    <div class=\"colab-df-container\">\n",
              "      <div>\n",
              "<style scoped>\n",
              "    .dataframe tbody tr th:only-of-type {\n",
              "        vertical-align: middle;\n",
              "    }\n",
              "\n",
              "    .dataframe tbody tr th {\n",
              "        vertical-align: top;\n",
              "    }\n",
              "\n",
              "    .dataframe thead th {\n",
              "        text-align: right;\n",
              "    }\n",
              "</style>\n",
              "<table border=\"1\" class=\"dataframe\">\n",
              "  <thead>\n",
              "    <tr style=\"text-align: right;\">\n",
              "      <th></th>\n",
              "      <th>sepal length (cm)</th>\n",
              "      <th>sepal width (cm)</th>\n",
              "      <th>petal length (cm)</th>\n",
              "      <th>petal width (cm)</th>\n",
              "      <th>target</th>\n",
              "    </tr>\n",
              "  </thead>\n",
              "  <tbody>\n",
              "    <tr>\n",
              "      <th>0</th>\n",
              "      <td>5.1</td>\n",
              "      <td>3.5</td>\n",
              "      <td>1.4</td>\n",
              "      <td>0.2</td>\n",
              "      <td>setosa</td>\n",
              "    </tr>\n",
              "    <tr>\n",
              "      <th>1</th>\n",
              "      <td>4.9</td>\n",
              "      <td>3.0</td>\n",
              "      <td>1.4</td>\n",
              "      <td>0.2</td>\n",
              "      <td>setosa</td>\n",
              "    </tr>\n",
              "    <tr>\n",
              "      <th>2</th>\n",
              "      <td>4.7</td>\n",
              "      <td>3.2</td>\n",
              "      <td>1.3</td>\n",
              "      <td>0.2</td>\n",
              "      <td>setosa</td>\n",
              "    </tr>\n",
              "    <tr>\n",
              "      <th>3</th>\n",
              "      <td>4.6</td>\n",
              "      <td>3.1</td>\n",
              "      <td>1.5</td>\n",
              "      <td>0.2</td>\n",
              "      <td>setosa</td>\n",
              "    </tr>\n",
              "    <tr>\n",
              "      <th>4</th>\n",
              "      <td>5.0</td>\n",
              "      <td>3.6</td>\n",
              "      <td>1.4</td>\n",
              "      <td>0.2</td>\n",
              "      <td>setosa</td>\n",
              "    </tr>\n",
              "  </tbody>\n",
              "</table>\n",
              "</div>\n",
              "      <button class=\"colab-df-convert\" onclick=\"convertToInteractive('df-4b95bb14-f3b1-4f05-b5e7-c4f8d98c3877')\"\n",
              "              title=\"Convert this dataframe to an interactive table.\"\n",
              "              style=\"display:none;\">\n",
              "        \n",
              "  <svg xmlns=\"http://www.w3.org/2000/svg\" height=\"24px\"viewBox=\"0 0 24 24\"\n",
              "       width=\"24px\">\n",
              "    <path d=\"M0 0h24v24H0V0z\" fill=\"none\"/>\n",
              "    <path d=\"M18.56 5.44l.94 2.06.94-2.06 2.06-.94-2.06-.94-.94-2.06-.94 2.06-2.06.94zm-11 1L8.5 8.5l.94-2.06 2.06-.94-2.06-.94L8.5 2.5l-.94 2.06-2.06.94zm10 10l.94 2.06.94-2.06 2.06-.94-2.06-.94-.94-2.06-.94 2.06-2.06.94z\"/><path d=\"M17.41 7.96l-1.37-1.37c-.4-.4-.92-.59-1.43-.59-.52 0-1.04.2-1.43.59L10.3 9.45l-7.72 7.72c-.78.78-.78 2.05 0 2.83L4 21.41c.39.39.9.59 1.41.59.51 0 1.02-.2 1.41-.59l7.78-7.78 2.81-2.81c.8-.78.8-2.07 0-2.86zM5.41 20L4 18.59l7.72-7.72 1.47 1.35L5.41 20z\"/>\n",
              "  </svg>\n",
              "      </button>\n",
              "      \n",
              "  <style>\n",
              "    .colab-df-container {\n",
              "      display:flex;\n",
              "      flex-wrap:wrap;\n",
              "      gap: 12px;\n",
              "    }\n",
              "\n",
              "    .colab-df-convert {\n",
              "      background-color: #E8F0FE;\n",
              "      border: none;\n",
              "      border-radius: 50%;\n",
              "      cursor: pointer;\n",
              "      display: none;\n",
              "      fill: #1967D2;\n",
              "      height: 32px;\n",
              "      padding: 0 0 0 0;\n",
              "      width: 32px;\n",
              "    }\n",
              "\n",
              "    .colab-df-convert:hover {\n",
              "      background-color: #E2EBFA;\n",
              "      box-shadow: 0px 1px 2px rgba(60, 64, 67, 0.3), 0px 1px 3px 1px rgba(60, 64, 67, 0.15);\n",
              "      fill: #174EA6;\n",
              "    }\n",
              "\n",
              "    [theme=dark] .colab-df-convert {\n",
              "      background-color: #3B4455;\n",
              "      fill: #D2E3FC;\n",
              "    }\n",
              "\n",
              "    [theme=dark] .colab-df-convert:hover {\n",
              "      background-color: #434B5C;\n",
              "      box-shadow: 0px 1px 3px 1px rgba(0, 0, 0, 0.15);\n",
              "      filter: drop-shadow(0px 1px 2px rgba(0, 0, 0, 0.3));\n",
              "      fill: #FFFFFF;\n",
              "    }\n",
              "  </style>\n",
              "\n",
              "      <script>\n",
              "        const buttonEl =\n",
              "          document.querySelector('#df-4b95bb14-f3b1-4f05-b5e7-c4f8d98c3877 button.colab-df-convert');\n",
              "        buttonEl.style.display =\n",
              "          google.colab.kernel.accessAllowed ? 'block' : 'none';\n",
              "\n",
              "        async function convertToInteractive(key) {\n",
              "          const element = document.querySelector('#df-4b95bb14-f3b1-4f05-b5e7-c4f8d98c3877');\n",
              "          const dataTable =\n",
              "            await google.colab.kernel.invokeFunction('convertToInteractive',\n",
              "                                                     [key], {});\n",
              "          if (!dataTable) return;\n",
              "\n",
              "          const docLinkHtml = 'Like what you see? Visit the ' +\n",
              "            '<a target=\"_blank\" href=https://colab.research.google.com/notebooks/data_table.ipynb>data table notebook</a>'\n",
              "            + ' to learn more about interactive tables.';\n",
              "          element.innerHTML = '';\n",
              "          dataTable['output_type'] = 'display_data';\n",
              "          await google.colab.output.renderOutput(dataTable, element);\n",
              "          const docLink = document.createElement('div');\n",
              "          docLink.innerHTML = docLinkHtml;\n",
              "          element.appendChild(docLink);\n",
              "        }\n",
              "      </script>\n",
              "    </div>\n",
              "  </div>\n",
              "  "
            ]
          },
          "metadata": {},
          "execution_count": 20
        }
      ],
      "source": [
        "df.head()"
      ]
    },
    {
      "cell_type": "markdown",
      "metadata": {
        "id": "CLdnJKRqb90k"
      },
      "source": [
        "## **Сделай сам**: решающий пень"
      ]
    },
    {
      "cell_type": "markdown",
      "metadata": {
        "id": "DddqtyCYdhIj"
      },
      "source": [
        "Самый простой вариант дерева решений - так называемый *решающий пень* (decision stump). Отличие решающего пня от решающего дерева заключается в том, что пень всегда состоит только из одной вершины, то есть для его реализации нам не придется заморачиваться с рекурсивным перебором"
      ]
    },
    {
      "cell_type": "markdown",
      "metadata": {
        "id": "fplJYyweelf7"
      },
      "source": [
        "Начнем с того, что научимся считать прирост энтропии после разбиения множества на две части."
      ]
    },
    {
      "cell_type": "code",
      "execution_count": 4,
      "metadata": {
        "id": "hjYSeiAHgzKi"
      },
      "outputs": [],
      "source": [
        "from math import log2\n",
        "\n",
        "\n",
        "\"\"\"\n",
        "Пошаговый разбор:\n",
        "\n",
        "Шаг 1:\n",
        "y: pd.Series -> изначальная выборка с целевыми переменными\n",
        "0     2\n",
        "1     2\n",
        "2     1\n",
        "3     1\n",
        "4     2\n",
        "5     3\n",
        "Name: target, dtype: int64\n",
        "\n",
        "Шаг 2:\n",
        "probas = y.value_counts(normalize=True) -> Отображение класса на долю вхождений объектов этого класса в выборку\n",
        "1     2 / 6 ~ 0.33333334\n",
        "2     3 / 6 = 0.5\n",
        "3     1 / 6 ~ 0.16666666\n",
        "Name: target, dtype: int64\n",
        "\n",
        "Шаг 3:\n",
        "probas.apply(lambda p: p * log2(p)) -> Умножение вероятности каждого класса на логарифм этой вероятности по определению энтропии по Шеннону\n",
        "\n",
        "Шаг 4:\n",
        "-probas.apply(lambda p: p * log2(p)).sum() -> Суммируем со знаком минус\n",
        "\"\"\"\n",
        "def entropy(targets: pd.Series) -> float:\n",
        "    class_probas = targets.value_counts(normalize=True)\n",
        "    return -class_probas.apply(lambda p: p * log2(p)).sum()"
      ]
    },
    {
      "cell_type": "code",
      "execution_count": 5,
      "metadata": {
        "id": "cVewXB4sZM1r"
      },
      "outputs": [],
      "source": [
        "eps = 1e-7\n",
        "\n",
        "assert abs(entropy(pd.Series(['a', 'a', 'a'])) - 0.) < eps\n",
        "assert abs(entropy(pd.Series(['a', 'a', 'b'])) - 0.9182958340) < eps\n",
        "assert abs(entropy(pd.Series(['a', 'a', 'b', 'b', 'c', 'a', 'a', 'b'])) - 1.4056390622) < eps\n",
        "assert abs(entropy(pd.Series(['a', 'b', 'c', 'd'])) - 2) < eps"
      ]
    },
    {
      "cell_type": "code",
      "execution_count": 6,
      "metadata": {
        "id": "hVDHvQPYboGj"
      },
      "outputs": [],
      "source": [
        "\"\"\"\n",
        "Важно: прирост информации мы считаем по целевой переменной\n",
        "\"\"\"\n",
        "def information_gain(before_split: pd.Series, split_left: pd.Series, split_right: pd.Series) -> float:\n",
        "    e_before_split = entropy(before_split)\n",
        "    e_left, left_proportion = entropy(split_left), len(split_left) / len(before_split)\n",
        "    e_right, right_proportion = entropy(split_right), len(split_right) / len(before_split)\n",
        "    return e_before_split - left_proportion* e_left -  right_proportion * e_right #Формула"
      ]
    },
    {
      "cell_type": "code",
      "execution_count": 7,
      "metadata": {
        "id": "9GdEfpfHb6X5"
      },
      "outputs": [],
      "source": [
        "assert abs(information_gain(pd.Series(['a', 'a', 'b', 'b']), pd.Series(['a', 'a']), pd.Series(['b', 'b'])) - 1.0) < eps\n",
        "assert abs(information_gain(pd.Series(['a', 'b', 'c', 'b']), pd.Series(['a', 'c']), pd.Series(['b', 'b'])) - 1.0) < eps\n",
        "assert abs(information_gain(pd.Series(['a', 'b', 'c', 'd']), pd.Series(['a', 'b']), pd.Series(['c', 'd'])) - 1.0) < eps\n",
        "assert abs(information_gain(pd.Series(['a', 'a', 'c', 'd']), pd.Series(['a', 'c']), pd.Series(['a', 'd'])) - 0.5) < eps"
      ]
    },
    {
      "cell_type": "markdown",
      "metadata": {
        "id": "HlRfYI45gpJx"
      },
      "source": [
        "Теперь напишем перебор разделяющих границ внутри одного признака. В нашем случае датасет имеет только числовые признаки, поэтому нам даже не нужно делать никакую предобработку признаков! В случае, если бы данные содержали категориальные признаки, нам нужно было бы сначала преобразовать их при помощи One-Hot кодирования."
      ]
    },
    {
      "cell_type": "code",
      "execution_count": 8,
      "metadata": {
        "id": "7XeKlx5Sb5L0"
      },
      "outputs": [],
      "source": [
        "from typing import Tuple\n",
        "\n",
        "\n",
        "\"\"\"\n",
        "Реализуем перебор самым простым способом: переберём фиксированным шагом значения от максимума до минимума\n",
        "\n",
        "Очевидно, что это не всегда выгодно. Например, если у нас есть выбросы, их лучше выкинуть\n",
        "\"\"\"\n",
        "def split_by_feature(x: pd.DataFrame, y: pd.Series, feature: str, steps: int = 100) -> Tuple[float, float]:\n",
        "    min_value, max_value = x[feature].min(), x[feature].max()\n",
        "    thresholds = np.linspace(min_value, max_value, steps)\n",
        "    best_gain, best_threshold = 0, None\n",
        "    for threshold in thresholds:\n",
        "       '''for t in x[feature]:\n",
        "         if t < threshold:\n",
        "           left = t.index\n",
        "         else:\n",
        "           right = t.index'''\n",
        "       index1 = x[feature] < threshold #То, что меньше - налево\n",
        "       index2 = x[feature] >= threshold #То, что больше - направо\n",
        "       gain = information_gain(y, y[index1], y[index2])\n",
        "       if best_gain < gain:\n",
        "         best_gain = gain\n",
        "         best_threshold = threshold\n",
        "         #print(best_threshold)\n",
        "    return best_gain, best_threshold"
      ]
    },
    {
      "cell_type": "markdown",
      "metadata": {
        "id": "HIQFS6KBi0-A"
      },
      "source": [
        "Теперь напишем перебор разбиений по всем признакам с выбором лучшего разбиения."
      ]
    },
    {
      "cell_type": "code",
      "execution_count": 9,
      "metadata": {
        "id": "mLzB1haQi0j4"
      },
      "outputs": [],
      "source": [
        "def split_by_features(x: pd.DataFrame, y: pd.Series, steps: int = 100) -> Tuple[float, str]:\n",
        "    best_gain, best_threshold, best_feature, best_idx = 0, None, None, None\n",
        "    for idx, feature in enumerate(x.columns):\n",
        "        gain, threshold = split_by_feature(x, y, feature, steps) #Перебираем фичи\n",
        "        if (best_gain < gain):\n",
        "          best_gain = gain\n",
        "          best_feature = feature\n",
        "          best_idx = idx\n",
        "          best_threshold = threshold\n",
        "    return best_gain, best_feature, best_idx, best_threshold"
      ]
    },
    {
      "cell_type": "markdown",
      "metadata": {
        "id": "jdkHvu3gpYUj"
      },
      "source": [
        "Наконец можем описать решающий пень!"
      ]
    },
    {
      "cell_type": "code",
      "execution_count": 31,
      "metadata": {
        "id": "CMno_hoIpaw8"
      },
      "outputs": [],
      "source": [
        "from dataclasses import dataclass\n",
        "from typing import Any, Optional\n",
        "\n",
        "\n",
        "\"\"\"\n",
        "Опишем вершину принятия решений\n",
        "\n",
        "В вершине мы либо храним правило, либо доминантный класс (если это лист)\n",
        "\"\"\"\n",
        "@dataclass\n",
        "class DecisionNode:\n",
        "    feature: Optional[str] = None\n",
        "    feature_idx: Optional[int] = None\n",
        "    threshold: Optional[float] = None\n",
        "    dominative_class: Any = None\n",
        "\n",
        "    @classmethod\n",
        "    def make_leaf(cls, values: pd.Series) -> 'DecisionNode':\n",
        "        class_counts = values.value_counts().to_dict()\n",
        "        dominative_class = max(class_counts, key=lambda c: class_counts[c])\n",
        "        return cls(dominative_class=dominative_class)\n",
        "\n",
        "    @classmethod\n",
        "    def make_node(\n",
        "        cls, best_feature: str, best_feature_idx: int, best_threshold: float\n",
        "    ) -> 'DecisionNode':\n",
        "        return cls(\n",
        "            feature=best_feature,\n",
        "            feature_idx=best_feature_idx,\n",
        "            threshold=best_threshold\n",
        "        )\n",
        "\n",
        "    @property\n",
        "    def is_leaf(self) -> bool:\n",
        "        return bool(self.dominative_class)\n",
        "\n",
        "\n",
        "class DecisionStump:\n",
        "    def __init__(self):\n",
        "        # Будем хранить внутри пня информацию о лучшем признаке и лучшей границе этого признака\n",
        "        self._node: Optional[DecisionNode] = None\n",
        "        self._left_node: Optional[DecisionNode] = None\n",
        "        self._right_node: Optional[DecisionNode] = None\n",
        "\n",
        "    def fit(self, X_train: pd.DataFrame, y_train: pd.Series) -> None:\n",
        "        _, feature, feature_idx, threshold = split_by_features(X_train, y_train)\n",
        "        x_left, x_right = X_train[X_train[feature] < threshold], X_train[X_train[feature] >= threshold]\n",
        "        y_left, y_right = y_train[x_left.index], y_train[x_right.index]\n",
        "        self._node = DecisionNode.make_node(feature, feature_idx, threshold)\n",
        "        self._left_node = DecisionNode.make_leaf(y_left)\n",
        "        self._right_node = DecisionNode.make_leaf(y_right)\n",
        "\n",
        "    def predict(self, X: pd.DataFrame) -> pd.Series:\n",
        "        x = X.copy()\n",
        "        node = self._node\n",
        "        left_samples = x[x[node.feature] < node.threshold]\n",
        "        right_samples = x[x[node.feature] >= node.threshold]\n",
        "        x.loc[left_samples.index, 'pred'] = self._left_node.dominative_class#Создаём pred\n",
        "        #x.loc[left_samples.index, 'pred']\n",
        "        x.loc[right_samples.index, 'pred'] = self._right_node.dominative_class\n",
        "        #x.loc[right_samples.index, 'pred']\n",
        "        return x.pred\n",
        "\n",
        "    def fit_predict(self, X: pd.DataFrame, y: pd.Series) -> pd.Series:\n",
        "        self.fit(X, y)\n",
        "        return self.predict(X)"
      ]
    },
    {
      "cell_type": "markdown",
      "metadata": {
        "id": "xJahOXvQ8oYV"
      },
      "source": [
        "Проблема: оказывается (кто бы мог подумать!) решающий пень хорошо подходит только для бинарной классификации. Поэтому возьмем из всех примеров только два класса и построим для них пень."
      ]
    },
    {
      "cell_type": "code",
      "execution_count": 32,
      "metadata": {
        "id": "GvRH6-fm8ZTX",
        "colab": {
          "base_uri": "https://localhost:8080/"
        },
        "outputId": "37f62897-50ce-46d2-a4d0-5171a1882e3e"
      },
      "outputs": [
        {
          "output_type": "stream",
          "name": "stdout",
          "text": [
            "35 65\n"
          ]
        }
      ],
      "source": [
        "from sklearn.model_selection import train_test_split\n",
        "\n",
        "\n",
        "reduced_df = df[df.target.apply(lambda t: t in ['setosa', 'versicolor'])]\n",
        "X, y = reduced_df.drop(columns=['target']), reduced_df.target\n",
        "X_train, X_test, y_train, y_test = train_test_split(X, y, train_size=0.35, random_state=42)\n",
        "print(len(X_train), len(X_test))"
      ]
    },
    {
      "cell_type": "code",
      "source": [
        "df.head()"
      ],
      "metadata": {
        "colab": {
          "base_uri": "https://localhost:8080/",
          "height": 206
        },
        "id": "F_2G7-J-IfyN",
        "outputId": "207f3d34-670c-474e-81dd-cb0a1c1c65ab"
      },
      "execution_count": 33,
      "outputs": [
        {
          "output_type": "execute_result",
          "data": {
            "text/plain": [
              "   sepal length (cm)  sepal width (cm)  petal length (cm)  petal width (cm)  \\\n",
              "0                5.1               3.5                1.4               0.2   \n",
              "1                4.9               3.0                1.4               0.2   \n",
              "2                4.7               3.2                1.3               0.2   \n",
              "3                4.6               3.1                1.5               0.2   \n",
              "4                5.0               3.6                1.4               0.2   \n",
              "\n",
              "   target  \n",
              "0  setosa  \n",
              "1  setosa  \n",
              "2  setosa  \n",
              "3  setosa  \n",
              "4  setosa  "
            ],
            "text/html": [
              "\n",
              "  <div id=\"df-19ee0fbf-c281-4aca-ab4a-e51539193087\">\n",
              "    <div class=\"colab-df-container\">\n",
              "      <div>\n",
              "<style scoped>\n",
              "    .dataframe tbody tr th:only-of-type {\n",
              "        vertical-align: middle;\n",
              "    }\n",
              "\n",
              "    .dataframe tbody tr th {\n",
              "        vertical-align: top;\n",
              "    }\n",
              "\n",
              "    .dataframe thead th {\n",
              "        text-align: right;\n",
              "    }\n",
              "</style>\n",
              "<table border=\"1\" class=\"dataframe\">\n",
              "  <thead>\n",
              "    <tr style=\"text-align: right;\">\n",
              "      <th></th>\n",
              "      <th>sepal length (cm)</th>\n",
              "      <th>sepal width (cm)</th>\n",
              "      <th>petal length (cm)</th>\n",
              "      <th>petal width (cm)</th>\n",
              "      <th>target</th>\n",
              "    </tr>\n",
              "  </thead>\n",
              "  <tbody>\n",
              "    <tr>\n",
              "      <th>0</th>\n",
              "      <td>5.1</td>\n",
              "      <td>3.5</td>\n",
              "      <td>1.4</td>\n",
              "      <td>0.2</td>\n",
              "      <td>setosa</td>\n",
              "    </tr>\n",
              "    <tr>\n",
              "      <th>1</th>\n",
              "      <td>4.9</td>\n",
              "      <td>3.0</td>\n",
              "      <td>1.4</td>\n",
              "      <td>0.2</td>\n",
              "      <td>setosa</td>\n",
              "    </tr>\n",
              "    <tr>\n",
              "      <th>2</th>\n",
              "      <td>4.7</td>\n",
              "      <td>3.2</td>\n",
              "      <td>1.3</td>\n",
              "      <td>0.2</td>\n",
              "      <td>setosa</td>\n",
              "    </tr>\n",
              "    <tr>\n",
              "      <th>3</th>\n",
              "      <td>4.6</td>\n",
              "      <td>3.1</td>\n",
              "      <td>1.5</td>\n",
              "      <td>0.2</td>\n",
              "      <td>setosa</td>\n",
              "    </tr>\n",
              "    <tr>\n",
              "      <th>4</th>\n",
              "      <td>5.0</td>\n",
              "      <td>3.6</td>\n",
              "      <td>1.4</td>\n",
              "      <td>0.2</td>\n",
              "      <td>setosa</td>\n",
              "    </tr>\n",
              "  </tbody>\n",
              "</table>\n",
              "</div>\n",
              "      <button class=\"colab-df-convert\" onclick=\"convertToInteractive('df-19ee0fbf-c281-4aca-ab4a-e51539193087')\"\n",
              "              title=\"Convert this dataframe to an interactive table.\"\n",
              "              style=\"display:none;\">\n",
              "        \n",
              "  <svg xmlns=\"http://www.w3.org/2000/svg\" height=\"24px\"viewBox=\"0 0 24 24\"\n",
              "       width=\"24px\">\n",
              "    <path d=\"M0 0h24v24H0V0z\" fill=\"none\"/>\n",
              "    <path d=\"M18.56 5.44l.94 2.06.94-2.06 2.06-.94-2.06-.94-.94-2.06-.94 2.06-2.06.94zm-11 1L8.5 8.5l.94-2.06 2.06-.94-2.06-.94L8.5 2.5l-.94 2.06-2.06.94zm10 10l.94 2.06.94-2.06 2.06-.94-2.06-.94-.94-2.06-.94 2.06-2.06.94z\"/><path d=\"M17.41 7.96l-1.37-1.37c-.4-.4-.92-.59-1.43-.59-.52 0-1.04.2-1.43.59L10.3 9.45l-7.72 7.72c-.78.78-.78 2.05 0 2.83L4 21.41c.39.39.9.59 1.41.59.51 0 1.02-.2 1.41-.59l7.78-7.78 2.81-2.81c.8-.78.8-2.07 0-2.86zM5.41 20L4 18.59l7.72-7.72 1.47 1.35L5.41 20z\"/>\n",
              "  </svg>\n",
              "      </button>\n",
              "      \n",
              "  <style>\n",
              "    .colab-df-container {\n",
              "      display:flex;\n",
              "      flex-wrap:wrap;\n",
              "      gap: 12px;\n",
              "    }\n",
              "\n",
              "    .colab-df-convert {\n",
              "      background-color: #E8F0FE;\n",
              "      border: none;\n",
              "      border-radius: 50%;\n",
              "      cursor: pointer;\n",
              "      display: none;\n",
              "      fill: #1967D2;\n",
              "      height: 32px;\n",
              "      padding: 0 0 0 0;\n",
              "      width: 32px;\n",
              "    }\n",
              "\n",
              "    .colab-df-convert:hover {\n",
              "      background-color: #E2EBFA;\n",
              "      box-shadow: 0px 1px 2px rgba(60, 64, 67, 0.3), 0px 1px 3px 1px rgba(60, 64, 67, 0.15);\n",
              "      fill: #174EA6;\n",
              "    }\n",
              "\n",
              "    [theme=dark] .colab-df-convert {\n",
              "      background-color: #3B4455;\n",
              "      fill: #D2E3FC;\n",
              "    }\n",
              "\n",
              "    [theme=dark] .colab-df-convert:hover {\n",
              "      background-color: #434B5C;\n",
              "      box-shadow: 0px 1px 3px 1px rgba(0, 0, 0, 0.15);\n",
              "      filter: drop-shadow(0px 1px 2px rgba(0, 0, 0, 0.3));\n",
              "      fill: #FFFFFF;\n",
              "    }\n",
              "  </style>\n",
              "\n",
              "      <script>\n",
              "        const buttonEl =\n",
              "          document.querySelector('#df-19ee0fbf-c281-4aca-ab4a-e51539193087 button.colab-df-convert');\n",
              "        buttonEl.style.display =\n",
              "          google.colab.kernel.accessAllowed ? 'block' : 'none';\n",
              "\n",
              "        async function convertToInteractive(key) {\n",
              "          const element = document.querySelector('#df-19ee0fbf-c281-4aca-ab4a-e51539193087');\n",
              "          const dataTable =\n",
              "            await google.colab.kernel.invokeFunction('convertToInteractive',\n",
              "                                                     [key], {});\n",
              "          if (!dataTable) return;\n",
              "\n",
              "          const docLinkHtml = 'Like what you see? Visit the ' +\n",
              "            '<a target=\"_blank\" href=https://colab.research.google.com/notebooks/data_table.ipynb>data table notebook</a>'\n",
              "            + ' to learn more about interactive tables.';\n",
              "          element.innerHTML = '';\n",
              "          dataTable['output_type'] = 'display_data';\n",
              "          await google.colab.output.renderOutput(dataTable, element);\n",
              "          const docLink = document.createElement('div');\n",
              "          docLink.innerHTML = docLinkHtml;\n",
              "          element.appendChild(docLink);\n",
              "        }\n",
              "      </script>\n",
              "    </div>\n",
              "  </div>\n",
              "  "
            ]
          },
          "metadata": {},
          "execution_count": 33
        }
      ]
    },
    {
      "cell_type": "code",
      "execution_count": 34,
      "metadata": {
        "id": "-Shff4Wf6q1O",
        "colab": {
          "base_uri": "https://localhost:8080/"
        },
        "outputId": "1f466a64-e929-46af-bdb7-abe4cb064427"
      },
      "outputs": [
        {
          "output_type": "stream",
          "name": "stdout",
          "text": [
            "              precision    recall  f1-score   support\n",
            "\n",
            "      setosa       1.00      0.95      0.97        38\n",
            "  versicolor       0.93      1.00      0.96        27\n",
            "\n",
            "    accuracy                           0.97        65\n",
            "   macro avg       0.97      0.97      0.97        65\n",
            "weighted avg       0.97      0.97      0.97        65\n",
            "\n"
          ]
        }
      ],
      "source": [
        "from sklearn.metrics import classification_report\n",
        "\n",
        "stump = DecisionStump()\n",
        "stump.fit(X_train, y_train)\n",
        "y_pred = stump.predict(X_test)\n",
        "\n",
        "print(classification_report(y_test, y_pred))"
      ]
    },
    {
      "cell_type": "code",
      "execution_count": 35,
      "metadata": {
        "id": "1V6T1vGg9LgE",
        "colab": {
          "base_uri": "https://localhost:8080/"
        },
        "outputId": "effad34a-d243-4aa5-cd51-ef07a0680e18"
      },
      "outputs": [
        {
          "output_type": "execute_result",
          "data": {
            "text/plain": [
              "('petal length (cm)', 1.7232323232323232)"
            ]
          },
          "metadata": {},
          "execution_count": 35
        }
      ],
      "source": [
        "stump._node.feature, stump._node.threshold"
      ]
    },
    {
      "cell_type": "markdown",
      "metadata": {
        "id": "kb-S-1zA7gp7"
      },
      "source": [
        "Однако решающий пень всё ещё можно приспособить для многоклассовой классификации. Например, его можно обернуть в какую-нибудь хитрую функцию, которая бы училась предсказывать примеры из узла, если в нём не достигнуто какое-нибудь заранее определённое преимущество одного из классов..."
      ]
    },
    {
      "cell_type": "markdown",
      "metadata": {
        "id": "LssXLnIqcASs"
      },
      "source": [
        "## **Сделай сам**: решающее дерево"
      ]
    },
    {
      "cell_type": "markdown",
      "metadata": {
        "id": "6Io2oMqN8NAd"
      },
      "source": [
        "...И тут мы понимаем, что это не что иное как дерево решений.\n",
        "\n",
        "По сути, основные функции для реализации дерева решений у нас готовы. Нам нужно только чуть-чуть переписать класс `DecisionNode` и по-человечески написать рекурсивный перебор признаков с жадным выбором."
      ]
    },
    {
      "cell_type": "code",
      "execution_count": 36,
      "metadata": {
        "id": "Xvr8U9ZU-ilz"
      },
      "outputs": [],
      "source": [
        "@dataclass\n",
        "class DecisionNode:\n",
        "    # Решающие признаки остаются как есть\n",
        "    feature: Optional[str] = None\n",
        "    feature_idx: Optional[int] = None\n",
        "    threshold: Optional[float] = None\n",
        "    # Добавляются ссылки на левую и правую вершины\n",
        "    left: Optional['DecisionNode'] = None\n",
        "    right: Optional['DecisionNode'] = None\n",
        "    # Класс в листе остается как есть\n",
        "    dominative_class: Any = None\n",
        "\n",
        "    @property\n",
        "    def is_leaf(self) -> bool:\n",
        "        return bool(self.dominative_class)"
      ]
    },
    {
      "cell_type": "code",
      "execution_count": 37,
      "metadata": {
        "id": "oPdF8apfcCbS"
      },
      "outputs": [],
      "source": [
        "class DecisionTree:\n",
        "    def __init__(self, max_impurity_spllit: float = 0.01, min_leaf_split=2, max_depth=None):\n",
        "        self._root: Optional[DecisionNode] = None\n",
        "        # В качестве простых эвристики для остановки возьмем:\n",
        "        # - максимальную глубину ветви\n",
        "        # - минимально допустимое число примеров в узле\n",
        "        # - долю \"примесей\" в узле\n",
        "        self._max_impurity_spllit = max_impurity_spllit\n",
        "        self._min_leaf_split = min_leaf_split\n",
        "        self._max_depth = max_depth\n",
        "\n",
        "    def _fit(self, X_train: pd.DataFrame, y_train: pd.Series, depth=0):\n",
        "        # проверим, можно ли вернуть лист\n",
        "        classes_probas = y_train.value_counts(normalize=True).to_dict()\n",
        "        dominative_class = max(classes_probas, key=lambda c: classes_probas[c])\n",
        "        impurity = 1 - classes_probas[dominative_class]\n",
        "        leaf_size = len(X_train)\n",
        "        if impurity <= self._max_impurity_spllit or leaf_size < self._min_leaf_split or (self._max_depth and depth >= self._max_depth):\n",
        "            return DecisionNode(dominative_class=dominative_class)\n",
        "        # если нет, продолжаем идти рекурсивно\n",
        "        # делаем перебор максимум в 10 точках\n",
        "        _, feature, feature_idx, threshold = split_by_features(X_train, y_train, 10)\n",
        "        if not feature:  # если не получается выбрать оптимальный признак для разбиения - завершаем перебор\n",
        "            return DecisionNode(dominative_class=dominative_class)\n",
        "        x_left, x_right = X_train[X_train[feature] < threshold], X_train[X_train[feature] >= threshold]\n",
        "        y_left, y_right = y_train[x_left.index], y_train[x_right.index]\n",
        "        left_node = self._fit(x_left, y_left, depth + 1)\n",
        "        right_node = self._fit(x_right, y_right, depth + 1)\n",
        "        return DecisionNode(\n",
        "            feature=feature,\n",
        "            feature_idx=feature_idx,\n",
        "            threshold=threshold,\n",
        "            left=left_node,\n",
        "            right=right_node,\n",
        "        )\n",
        "\n",
        "    def fit(self, X_train: pd.DataFrame, y_train: pd.Series):\n",
        "        self._root = self._fit(X_train, y_train)\n",
        "\n",
        "    def _predict(self, sample: pd.Series, node: DecisionNode) -> Any:\n",
        "        if node.is_leaf:\n",
        "            return node.dominative_class\n",
        "        if sample[node.feature] < node.threshold:\n",
        "            return self._predict(sample, node.left)\n",
        "        return self._predict(sample, node.right)\n",
        "\n",
        "    def predict(self, X: pd.DataFrame) -> pd.Series:\n",
        "        return X.apply(lambda sample: self._predict(sample, self._root), axis=1)\n",
        "\n",
        "    def fit_predict(self, X_train: pd.DataFrame, y_train: pd.Series):\n",
        "        self.fit(X_train, y_train)\n",
        "        return self.predict(X_train)"
      ]
    },
    {
      "cell_type": "code",
      "execution_count": 38,
      "metadata": {
        "id": "HDWJbXczwoEg",
        "colab": {
          "base_uri": "https://localhost:8080/"
        },
        "outputId": "dbe4bbe5-bf0e-4ad8-8cf7-e549a48da576"
      },
      "outputs": [
        {
          "output_type": "stream",
          "name": "stdout",
          "text": [
            "75 75\n"
          ]
        }
      ],
      "source": [
        "X, y = df.drop(columns=['target']), df.target\n",
        "X_train, X_test, y_train, y_test = train_test_split(X, y, train_size=0.5, random_state=42)\n",
        "\n",
        "print(len(X_train), len(X_test))"
      ]
    },
    {
      "cell_type": "code",
      "execution_count": 39,
      "metadata": {
        "id": "bF0WxfxWFaAd",
        "colab": {
          "base_uri": "https://localhost:8080/"
        },
        "outputId": "138d41a6-59b8-4e05-a28a-a2b4c03eaf5a"
      },
      "outputs": [
        {
          "output_type": "stream",
          "name": "stdout",
          "text": [
            "              precision    recall  f1-score   support\n",
            "\n",
            "      setosa       1.00      1.00      1.00        29\n",
            "  versicolor       0.87      0.87      0.87        23\n",
            "   virginica       0.87      0.87      0.87        23\n",
            "\n",
            "    accuracy                           0.92        75\n",
            "   macro avg       0.91      0.91      0.91        75\n",
            "weighted avg       0.92      0.92      0.92        75\n",
            "\n"
          ]
        }
      ],
      "source": [
        "tree = DecisionTree()\n",
        "tree.fit(X_train, y_train)\n",
        "y_pred = tree.predict(X_test)\n",
        "\n",
        "print(classification_report(y_test, y_pred))"
      ]
    },
    {
      "cell_type": "markdown",
      "metadata": {
        "id": "dEYI59j2cOFu"
      },
      "source": [
        "## Возможности sklearn"
      ]
    },
    {
      "cell_type": "markdown",
      "metadata": {
        "id": "VnAxUlxrBIf5"
      },
      "source": [
        "### Сравнение на нормальном датасете"
      ]
    },
    {
      "cell_type": "code",
      "execution_count": 40,
      "metadata": {
        "id": "Nz6xwpFZNyhp"
      },
      "outputs": [],
      "source": [
        "# !pip install gdown"
      ]
    },
    {
      "cell_type": "code",
      "execution_count": 41,
      "metadata": {
        "id": "wRg1iRJMBMAJ",
        "colab": {
          "base_uri": "https://localhost:8080/"
        },
        "outputId": "a894123d-ea62-4ee2-8567-7b2116e7007b"
      },
      "outputs": [
        {
          "output_type": "stream",
          "name": "stdout",
          "text": [
            "Downloading...\n",
            "From: https://drive.google.com/uc?id=1oCrlxirolbpiBmYtLv2eLjI30k4swFgD\n",
            "To: /content/pulsar.csv\n",
            "\r  0% 0.00/1.30M [00:00<?, ?B/s]\r100% 1.30M/1.30M [00:00<00:00, 99.6MB/s]\n"
          ]
        }
      ],
      "source": [
        "!gdown 1oCrlxirolbpiBmYtLv2eLjI30k4swFgD -O pulsar.csv"
      ]
    },
    {
      "cell_type": "code",
      "execution_count": 42,
      "metadata": {
        "id": "EE01aF7RGOMW",
        "colab": {
          "base_uri": "https://localhost:8080/",
          "height": 285
        },
        "outputId": "348a2d13-07ee-43ba-e0c4-977dc5b24171"
      },
      "outputs": [
        {
          "output_type": "execute_result",
          "data": {
            "text/plain": [
              "    Mean of the integrated profile  \\\n",
              "0                       121.156250   \n",
              "1                        76.968750   \n",
              "2                       130.585938   \n",
              "3                       156.398438   \n",
              "4                        84.804688   \n",
              "\n",
              "    Standard deviation of the integrated profile  \\\n",
              "0                                      48.372971   \n",
              "1                                      36.175557   \n",
              "2                                      53.229534   \n",
              "3                                      48.865942   \n",
              "4                                      36.117659   \n",
              "\n",
              "    Excess kurtosis of the integrated profile  \\\n",
              "0                                    0.375485   \n",
              "1                                    0.712898   \n",
              "2                                    0.133408   \n",
              "3                                   -0.215989   \n",
              "4                                    0.825013   \n",
              "\n",
              "    Skewness of the integrated profile   Mean of the DM-SNR curve  \\\n",
              "0                            -0.013165                   3.168896   \n",
              "1                             3.388719                   2.399666   \n",
              "2                            -0.297242                   2.743311   \n",
              "3                            -0.171294                  17.471572   \n",
              "4                             3.274125                   2.790134   \n",
              "\n",
              "    Standard deviation of the DM-SNR curve  \\\n",
              "0                                18.399367   \n",
              "1                                17.570997   \n",
              "2                                22.362553   \n",
              "3                                      NaN   \n",
              "4                                20.618009   \n",
              "\n",
              "    Excess kurtosis of the DM-SNR curve   Skewness of the DM-SNR curve  \\\n",
              "0                              7.449874                      65.159298   \n",
              "1                              9.414652                     102.722975   \n",
              "2                              8.508364                      74.031324   \n",
              "3                              2.958066                       7.197842   \n",
              "4                              8.405008                      76.291128   \n",
              "\n",
              "   target_class  \n",
              "0           0.0  \n",
              "1           0.0  \n",
              "2           0.0  \n",
              "3           0.0  \n",
              "4           0.0  "
            ],
            "text/html": [
              "\n",
              "  <div id=\"df-a59429d8-c0da-47c2-83f1-b68be8bbbcc0\">\n",
              "    <div class=\"colab-df-container\">\n",
              "      <div>\n",
              "<style scoped>\n",
              "    .dataframe tbody tr th:only-of-type {\n",
              "        vertical-align: middle;\n",
              "    }\n",
              "\n",
              "    .dataframe tbody tr th {\n",
              "        vertical-align: top;\n",
              "    }\n",
              "\n",
              "    .dataframe thead th {\n",
              "        text-align: right;\n",
              "    }\n",
              "</style>\n",
              "<table border=\"1\" class=\"dataframe\">\n",
              "  <thead>\n",
              "    <tr style=\"text-align: right;\">\n",
              "      <th></th>\n",
              "      <th>Mean of the integrated profile</th>\n",
              "      <th>Standard deviation of the integrated profile</th>\n",
              "      <th>Excess kurtosis of the integrated profile</th>\n",
              "      <th>Skewness of the integrated profile</th>\n",
              "      <th>Mean of the DM-SNR curve</th>\n",
              "      <th>Standard deviation of the DM-SNR curve</th>\n",
              "      <th>Excess kurtosis of the DM-SNR curve</th>\n",
              "      <th>Skewness of the DM-SNR curve</th>\n",
              "      <th>target_class</th>\n",
              "    </tr>\n",
              "  </thead>\n",
              "  <tbody>\n",
              "    <tr>\n",
              "      <th>0</th>\n",
              "      <td>121.156250</td>\n",
              "      <td>48.372971</td>\n",
              "      <td>0.375485</td>\n",
              "      <td>-0.013165</td>\n",
              "      <td>3.168896</td>\n",
              "      <td>18.399367</td>\n",
              "      <td>7.449874</td>\n",
              "      <td>65.159298</td>\n",
              "      <td>0.0</td>\n",
              "    </tr>\n",
              "    <tr>\n",
              "      <th>1</th>\n",
              "      <td>76.968750</td>\n",
              "      <td>36.175557</td>\n",
              "      <td>0.712898</td>\n",
              "      <td>3.388719</td>\n",
              "      <td>2.399666</td>\n",
              "      <td>17.570997</td>\n",
              "      <td>9.414652</td>\n",
              "      <td>102.722975</td>\n",
              "      <td>0.0</td>\n",
              "    </tr>\n",
              "    <tr>\n",
              "      <th>2</th>\n",
              "      <td>130.585938</td>\n",
              "      <td>53.229534</td>\n",
              "      <td>0.133408</td>\n",
              "      <td>-0.297242</td>\n",
              "      <td>2.743311</td>\n",
              "      <td>22.362553</td>\n",
              "      <td>8.508364</td>\n",
              "      <td>74.031324</td>\n",
              "      <td>0.0</td>\n",
              "    </tr>\n",
              "    <tr>\n",
              "      <th>3</th>\n",
              "      <td>156.398438</td>\n",
              "      <td>48.865942</td>\n",
              "      <td>-0.215989</td>\n",
              "      <td>-0.171294</td>\n",
              "      <td>17.471572</td>\n",
              "      <td>NaN</td>\n",
              "      <td>2.958066</td>\n",
              "      <td>7.197842</td>\n",
              "      <td>0.0</td>\n",
              "    </tr>\n",
              "    <tr>\n",
              "      <th>4</th>\n",
              "      <td>84.804688</td>\n",
              "      <td>36.117659</td>\n",
              "      <td>0.825013</td>\n",
              "      <td>3.274125</td>\n",
              "      <td>2.790134</td>\n",
              "      <td>20.618009</td>\n",
              "      <td>8.405008</td>\n",
              "      <td>76.291128</td>\n",
              "      <td>0.0</td>\n",
              "    </tr>\n",
              "  </tbody>\n",
              "</table>\n",
              "</div>\n",
              "      <button class=\"colab-df-convert\" onclick=\"convertToInteractive('df-a59429d8-c0da-47c2-83f1-b68be8bbbcc0')\"\n",
              "              title=\"Convert this dataframe to an interactive table.\"\n",
              "              style=\"display:none;\">\n",
              "        \n",
              "  <svg xmlns=\"http://www.w3.org/2000/svg\" height=\"24px\"viewBox=\"0 0 24 24\"\n",
              "       width=\"24px\">\n",
              "    <path d=\"M0 0h24v24H0V0z\" fill=\"none\"/>\n",
              "    <path d=\"M18.56 5.44l.94 2.06.94-2.06 2.06-.94-2.06-.94-.94-2.06-.94 2.06-2.06.94zm-11 1L8.5 8.5l.94-2.06 2.06-.94-2.06-.94L8.5 2.5l-.94 2.06-2.06.94zm10 10l.94 2.06.94-2.06 2.06-.94-2.06-.94-.94-2.06-.94 2.06-2.06.94z\"/><path d=\"M17.41 7.96l-1.37-1.37c-.4-.4-.92-.59-1.43-.59-.52 0-1.04.2-1.43.59L10.3 9.45l-7.72 7.72c-.78.78-.78 2.05 0 2.83L4 21.41c.39.39.9.59 1.41.59.51 0 1.02-.2 1.41-.59l7.78-7.78 2.81-2.81c.8-.78.8-2.07 0-2.86zM5.41 20L4 18.59l7.72-7.72 1.47 1.35L5.41 20z\"/>\n",
              "  </svg>\n",
              "      </button>\n",
              "      \n",
              "  <style>\n",
              "    .colab-df-container {\n",
              "      display:flex;\n",
              "      flex-wrap:wrap;\n",
              "      gap: 12px;\n",
              "    }\n",
              "\n",
              "    .colab-df-convert {\n",
              "      background-color: #E8F0FE;\n",
              "      border: none;\n",
              "      border-radius: 50%;\n",
              "      cursor: pointer;\n",
              "      display: none;\n",
              "      fill: #1967D2;\n",
              "      height: 32px;\n",
              "      padding: 0 0 0 0;\n",
              "      width: 32px;\n",
              "    }\n",
              "\n",
              "    .colab-df-convert:hover {\n",
              "      background-color: #E2EBFA;\n",
              "      box-shadow: 0px 1px 2px rgba(60, 64, 67, 0.3), 0px 1px 3px 1px rgba(60, 64, 67, 0.15);\n",
              "      fill: #174EA6;\n",
              "    }\n",
              "\n",
              "    [theme=dark] .colab-df-convert {\n",
              "      background-color: #3B4455;\n",
              "      fill: #D2E3FC;\n",
              "    }\n",
              "\n",
              "    [theme=dark] .colab-df-convert:hover {\n",
              "      background-color: #434B5C;\n",
              "      box-shadow: 0px 1px 3px 1px rgba(0, 0, 0, 0.15);\n",
              "      filter: drop-shadow(0px 1px 2px rgba(0, 0, 0, 0.3));\n",
              "      fill: #FFFFFF;\n",
              "    }\n",
              "  </style>\n",
              "\n",
              "      <script>\n",
              "        const buttonEl =\n",
              "          document.querySelector('#df-a59429d8-c0da-47c2-83f1-b68be8bbbcc0 button.colab-df-convert');\n",
              "        buttonEl.style.display =\n",
              "          google.colab.kernel.accessAllowed ? 'block' : 'none';\n",
              "\n",
              "        async function convertToInteractive(key) {\n",
              "          const element = document.querySelector('#df-a59429d8-c0da-47c2-83f1-b68be8bbbcc0');\n",
              "          const dataTable =\n",
              "            await google.colab.kernel.invokeFunction('convertToInteractive',\n",
              "                                                     [key], {});\n",
              "          if (!dataTable) return;\n",
              "\n",
              "          const docLinkHtml = 'Like what you see? Visit the ' +\n",
              "            '<a target=\"_blank\" href=https://colab.research.google.com/notebooks/data_table.ipynb>data table notebook</a>'\n",
              "            + ' to learn more about interactive tables.';\n",
              "          element.innerHTML = '';\n",
              "          dataTable['output_type'] = 'display_data';\n",
              "          await google.colab.output.renderOutput(dataTable, element);\n",
              "          const docLink = document.createElement('div');\n",
              "          docLink.innerHTML = docLinkHtml;\n",
              "          element.appendChild(docLink);\n",
              "        }\n",
              "      </script>\n",
              "    </div>\n",
              "  </div>\n",
              "  "
            ]
          },
          "metadata": {},
          "execution_count": 42
        }
      ],
      "source": [
        "df = pd.read_csv('pulsar.csv')\n",
        "\n",
        "df.head()"
      ]
    },
    {
      "cell_type": "code",
      "execution_count": 43,
      "metadata": {
        "id": "icDjkzSMkx1J",
        "colab": {
          "base_uri": "https://localhost:8080/"
        },
        "outputId": "6b86b5b8-7d3d-40ad-d4c0-4af4d1004b17"
      },
      "outputs": [
        {
          "output_type": "execute_result",
          "data": {
            "text/plain": [
              "Index([' Mean of the integrated profile',\n",
              "       ' Standard deviation of the integrated profile',\n",
              "       ' Excess kurtosis of the integrated profile',\n",
              "       ' Skewness of the integrated profile', ' Mean of the DM-SNR curve',\n",
              "       ' Standard deviation of the DM-SNR curve',\n",
              "       ' Excess kurtosis of the DM-SNR curve', ' Skewness of the DM-SNR curve',\n",
              "       'target_class'],\n",
              "      dtype='object')"
            ]
          },
          "metadata": {},
          "execution_count": 43
        }
      ],
      "source": [
        "df.columns"
      ]
    },
    {
      "cell_type": "code",
      "execution_count": 44,
      "metadata": {
        "id": "MioNPCH5KAEU",
        "colab": {
          "base_uri": "https://localhost:8080/"
        },
        "outputId": "044267f8-452c-43df-d907-028fd6546fe7"
      },
      "outputs": [
        {
          "output_type": "execute_result",
          "data": {
            "text/plain": [
              "0.0    0.907966\n",
              "1.0    0.092034\n",
              "Name: target_class, dtype: float64"
            ]
          },
          "metadata": {},
          "execution_count": 44
        }
      ],
      "source": [
        "df.target_class.value_counts(normalize=True)"
      ]
    },
    {
      "cell_type": "code",
      "execution_count": 45,
      "metadata": {
        "id": "MoHZoZFfJH5F",
        "colab": {
          "base_uri": "https://localhost:8080/"
        },
        "outputId": "8969c0a2-ccfd-4d49-ce6e-b92179c1f09f"
      },
      "outputs": [
        {
          "output_type": "execute_result",
          "data": {
            "text/plain": [
              " Excess kurtosis of the integrated profile    True\n",
              " Standard deviation of the DM-SNR curve       True\n",
              " Skewness of the DM-SNR curve                 True\n",
              "dtype: bool"
            ]
          },
          "metadata": {},
          "execution_count": 45
        }
      ],
      "source": [
        "na_columns = df.isna().any()[df.isna().any()]  # выведем только колонки с NaN'ами\n",
        "na_columns"
      ]
    },
    {
      "cell_type": "code",
      "execution_count": 46,
      "metadata": {
        "id": "cXmXgSdqm-QS"
      },
      "outputs": [],
      "source": [
        "# заполним пропуски в каждой колонке средним по непустым значениям\n",
        "for na_column in na_columns.index:\n",
        "    df.loc[df[na_column].isna(), na_column] = df[~df[na_column].isna()][na_column].mean()"
      ]
    },
    {
      "cell_type": "code",
      "execution_count": 47,
      "metadata": {
        "id": "T3CQbbzvpGBR",
        "colab": {
          "base_uri": "https://localhost:8080/"
        },
        "outputId": "7313206e-0d84-4382-80b1-44bb555d57be"
      },
      "outputs": [
        {
          "output_type": "execute_result",
          "data": {
            "text/plain": [
              "False"
            ]
          },
          "metadata": {},
          "execution_count": 47
        }
      ],
      "source": [
        "df.isna().any().any()  # колонок с пропусками не осталось"
      ]
    },
    {
      "cell_type": "code",
      "execution_count": 48,
      "metadata": {
        "id": "iim1GLl1Gae-",
        "colab": {
          "base_uri": "https://localhost:8080/"
        },
        "outputId": "d06a16ce-f97c-4c0e-cd01-664471e003ea"
      },
      "outputs": [
        {
          "output_type": "execute_result",
          "data": {
            "text/plain": [
              "(8143, 4385)"
            ]
          },
          "metadata": {},
          "execution_count": 48
        }
      ],
      "source": [
        "X, y = df.drop(columns=['target_class']), df.target_class.apply(int).apply(str)\n",
        "X_train, X_test, y_train, y_test = train_test_split(X, y, train_size=0.65, random_state=42)\n",
        "\n",
        "len(X_train), len(X_test)"
      ]
    },
    {
      "cell_type": "code",
      "execution_count": 49,
      "metadata": {
        "id": "gD1EsEeHGVDG",
        "colab": {
          "base_uri": "https://localhost:8080/"
        },
        "outputId": "58bdc403-6623-484b-c2ca-6a2c92ac97d0"
      },
      "outputs": [
        {
          "output_type": "stream",
          "name": "stdout",
          "text": [
            "              precision    recall  f1-score   support\n",
            "\n",
            "           0       0.98      0.99      0.98      3979\n",
            "           1       0.87      0.80      0.83       406\n",
            "\n",
            "    accuracy                           0.97      4385\n",
            "   macro avg       0.92      0.89      0.91      4385\n",
            "weighted avg       0.97      0.97      0.97      4385\n",
            "\n"
          ]
        }
      ],
      "source": [
        "tree = DecisionTree()\n",
        "tree.fit(X_train, y_train)\n",
        "y_pred = tree.predict(X_test)\n",
        "\n",
        "print(classification_report(y_test, y_pred))"
      ]
    },
    {
      "cell_type": "markdown",
      "metadata": {
        "id": "hhEWDB8xsTWu"
      },
      "source": [
        "Неплохо, но довольно долго, не так ли?"
      ]
    },
    {
      "cell_type": "code",
      "execution_count": 50,
      "metadata": {
        "id": "dbN8PgrkIuX1",
        "colab": {
          "base_uri": "https://localhost:8080/"
        },
        "outputId": "538e9519-c67a-43c5-9331-ec001a0cdc88"
      },
      "outputs": [
        {
          "output_type": "stream",
          "name": "stdout",
          "text": [
            "              precision    recall  f1-score   support\n",
            "\n",
            "           0       0.98      0.98      0.98      3979\n",
            "           1       0.80      0.78      0.79       406\n",
            "\n",
            "    accuracy                           0.96      4385\n",
            "   macro avg       0.89      0.88      0.88      4385\n",
            "weighted avg       0.96      0.96      0.96      4385\n",
            "\n"
          ]
        }
      ],
      "source": [
        "from sklearn.tree import DecisionTreeClassifier\n",
        "\n",
        "\n",
        "sklearn_tree = DecisionTreeClassifier()\n",
        "sklearn_tree.fit(X_train, y_train)\n",
        "y_pred = sklearn_tree.predict(X_test)\n",
        "\n",
        "print(classification_report(y_test, y_pred))"
      ]
    },
    {
      "cell_type": "markdown",
      "metadata": {
        "id": "Py2F45uYsW_W"
      },
      "source": [
        "Sklearn справился **значительно** быстрее. Да, мы могли поставить разные отсечения (например, задать `max_depth=5`), но sklearn из коробки дает почти такое же качество при значительно большей скорости."
      ]
    },
    {
      "cell_type": "markdown",
      "metadata": {
        "id": "aQBlE30rcSvd"
      },
      "source": [
        "### Гиперпараметры"
      ]
    },
    {
      "cell_type": "markdown",
      "metadata": {
        "id": "YUOq14JgtInF"
      },
      "source": [
        "Однако основная проблема в том, что мы сильно переобучились. Давайте посмотрим на то, как меняется качество модели на обучающей и отложенной выборках при изменении некоторых гиперпараметров.\n",
        "\n",
        "Дисклеймер: на самом деле так перебирать гиперпараметры **нельзя**! Если вы в рамках реальной задачи хотите подобрать оптимальные гиперпараметры, вам нужно разбить данные на *три* части:\n",
        "\n",
        "1. `train` - на этих данных вы обучаете модели, перебирая значения гиперпараметров;\n",
        "2. `valid` - на этих данных вы валидируете обученные модели и выбираете $k$ лучших (часто $k$ берут небольшим, от 3 до 5);\n",
        "3. `test` - на этих данных вы проверяете $k$ лучших кандидатов и выбираете тот набор гиперпараметров, который показал лучший результат на тестовом множестве."
      ]
    },
    {
      "cell_type": "code",
      "execution_count": 51,
      "metadata": {
        "id": "J8ELtiqUcSSs"
      },
      "outputs": [],
      "source": [
        "import seaborn as sns\n",
        "\n",
        "\n",
        "def plot_fitting_curve(parameter: str, values: list, score, X_train, X_test, y_train, y_test):\n",
        "    train_curve = []\n",
        "    test_curve = []\n",
        "    for value in values:\n",
        "        # инициализация объекта из словаря\n",
        "        # распаковка словаря через ** эквивалентна перечислению аргументов\n",
        "        model = DecisionTreeClassifier(**{parameter: value})\n",
        "        model.fit(X_train, y_train)\n",
        "        y_pred_train, y_pred_test = model.predict(X_train), model.predict(X_test)\n",
        "        train_curve.append(score(y_train, y_pred_train, average='macro'))\n",
        "        test_curve.append(score(y_test, y_pred_test, average='macro'))\n",
        "    sns.lineplot(x=values, y=train_curve)\n",
        "    sns.lineplot(x=values, y=test_curve)"
      ]
    },
    {
      "cell_type": "markdown",
      "metadata": {
        "id": "xRVFLgzOw8-b"
      },
      "source": [
        "Попробуем перебрать максимальную глубину дерева"
      ]
    },
    {
      "cell_type": "code",
      "execution_count": 52,
      "metadata": {
        "id": "-TnSRkP9uz3M",
        "colab": {
          "base_uri": "https://localhost:8080/",
          "height": 430
        },
        "outputId": "ac2ae4be-37e6-433d-a3ff-d77940a24e09"
      },
      "outputs": [
        {
          "output_type": "display_data",
          "data": {
            "text/plain": [
              "<Figure size 640x480 with 1 Axes>"
            ],
            "image/png": "[encoded data removed]"
          },
          "metadata": {}
        }
      ],
      "source": [
        "from sklearn.metrics import f1_score\n",
        "\n",
        "\n",
        "plot_fitting_curve('max_depth', np.arange(1, 20), f1_score, X_train, X_test, y_train, y_test)"
      ]
    },
    {
      "cell_type": "markdown",
      "metadata": {
        "id": "tkwxph8KxK0z"
      },
      "source": [
        "Видно, что на глубине больше трех наступает переобучение и качество на тестовой выборке начинает падать.\n",
        "\n",
        "Далее попробуем перебрать минимальное число примеров в узле для разбиения."
      ]
    },
    {
      "cell_type": "code",
      "execution_count": 53,
      "metadata": {
        "id": "EFj2Cr_Iwqeb",
        "colab": {
          "base_uri": "https://localhost:8080/",
          "height": 430
        },
        "outputId": "1cd47b79-fb65-48ca-cb51-66371db17856"
      },
      "outputs": [
        {
          "output_type": "display_data",
          "data": {
            "text/plain": [
              "<Figure size 640x480 with 1 Axes>"
            ],
            "image/png": "[encoded data removed]"
          },
          "metadata": {}
        }
      ],
      "source": [
        "plot_fitting_curve('min_samples_split', np.arange(5, 100, 2), f1_score, X_train, X_test, y_train, y_test)"
      ]
    },
    {
      "cell_type": "markdown",
      "metadata": {
        "id": "stGj-goTxeOz"
      },
      "source": [
        "В случае с этим параметром видно, что его увеличение хорошо влияет на сходимость модели. В какой-то момент увеличение этого параметра перестает влиять на значение f1-меры на обучении и тесте.\n",
        "\n",
        "Дальше попробуем перебрать параметр `max_features`, отвечающий за максимальное число признаков, используемых для разбиения."
      ]
    },
    {
      "cell_type": "code",
      "execution_count": 54,
      "metadata": {
        "id": "NxrWzPovx9V8",
        "colab": {
          "base_uri": "https://localhost:8080/",
          "height": 430
        },
        "outputId": "c9e8484f-1b79-4a66-b90b-74b5f74052ce"
      },
      "outputs": [
        {
          "output_type": "display_data",
          "data": {
            "text/plain": [
              "<Figure size 640x480 with 1 Axes>"
            ],
            "image/png": "[encoded data removed]"
          },
          "metadata": {}
        }
      ],
      "source": [
        "plot_fitting_curve('max_features', np.linspace(0.1, 1, 20), f1_score, X_train, X_test, y_train, y_test)"
      ]
    },
    {
      "cell_type": "markdown",
      "metadata": {
        "id": "vieEHfJscVaU"
      },
      "source": [
        "### Решающая граница"
      ]
    },
    {
      "cell_type": "markdown",
      "metadata": {
        "id": "dxIYF0rozqrx"
      },
      "source": [
        "Наконец посмотрим, как выглядит решающая граница, которую строит дерево решений. Для этого возьмем датасет с ирисами и выберем из него два произвольных признака."
      ]
    },
    {
      "cell_type": "code",
      "execution_count": 55,
      "metadata": {
        "id": "Gfc5UBWTcX6N",
        "colab": {
          "base_uri": "https://localhost:8080/"
        },
        "outputId": "a92d4d34-3bd1-4d29-ba40-d810bef46354"
      },
      "outputs": [
        {
          "output_type": "stream",
          "name": "stdout",
          "text": [
            "Index(['sepal length (cm)', 'sepal width (cm)', 'petal length (cm)',\n",
            "       'petal width (cm)', 'target'],\n",
            "      dtype='object')\n"
          ]
        }
      ],
      "source": [
        "df = pd.DataFrame(data=iris_dataset.data, columns=iris_dataset.feature_names)\n",
        "df['target'] = iris_dataset.target\n",
        "df['target'] = df.target.apply(lambda v: iris_dataset.target_names[v])\n",
        "\n",
        "print(df.columns)"
      ]
    },
    {
      "cell_type": "code",
      "execution_count": 56,
      "metadata": {
        "id": "zkDk3aUu0AM4",
        "colab": {
          "base_uri": "https://localhost:8080/",
          "height": 229
        },
        "outputId": "c42db336-725e-481c-d4f7-6dd7dc1d0cd0"
      },
      "outputs": [
        {
          "output_type": "stream",
          "name": "stderr",
          "text": [
            "<ipython-input-56-2f6f6606aa2c>:1: FutureWarning: The default value of numeric_only in DataFrame.corr is deprecated. In a future version, it will default to False. Select only valid columns or specify the value of numeric_only to silence this warning.\n",
            "  df.corr()\n"
          ]
        },
        {
          "output_type": "execute_result",
          "data": {
            "text/plain": [
              "                   sepal length (cm)  sepal width (cm)  petal length (cm)  \\\n",
              "sepal length (cm)           1.000000         -0.117570           0.871754   \n",
              "sepal width (cm)           -0.117570          1.000000          -0.428440   \n",
              "petal length (cm)           0.871754         -0.428440           1.000000   \n",
              "petal width (cm)            0.817941         -0.366126           0.962865   \n",
              "\n",
              "                   petal width (cm)  \n",
              "sepal length (cm)          0.817941  \n",
              "sepal width (cm)          -0.366126  \n",
              "petal length (cm)          0.962865  \n",
              "petal width (cm)           1.000000  "
            ],
            "text/html": [
              "\n",
              "  <div id=\"df-ae4ec243-ee76-4ee2-92d8-f48e644d8d10\">\n",
              "    <div class=\"colab-df-container\">\n",
              "      <div>\n",
              "<style scoped>\n",
              "    .dataframe tbody tr th:only-of-type {\n",
              "        vertical-align: middle;\n",
              "    }\n",
              "\n",
              "    .dataframe tbody tr th {\n",
              "        vertical-align: top;\n",
              "    }\n",
              "\n",
              "    .dataframe thead th {\n",
              "        text-align: right;\n",
              "    }\n",
              "</style>\n",
              "<table border=\"1\" class=\"dataframe\">\n",
              "  <thead>\n",
              "    <tr style=\"text-align: right;\">\n",
              "      <th></th>\n",
              "      <th>sepal length (cm)</th>\n",
              "      <th>sepal width (cm)</th>\n",
              "      <th>petal length (cm)</th>\n",
              "      <th>petal width (cm)</th>\n",
              "    </tr>\n",
              "  </thead>\n",
              "  <tbody>\n",
              "    <tr>\n",
              "      <th>sepal length (cm)</th>\n",
              "      <td>1.000000</td>\n",
              "      <td>-0.117570</td>\n",
              "      <td>0.871754</td>\n",
              "      <td>0.817941</td>\n",
              "    </tr>\n",
              "    <tr>\n",
              "      <th>sepal width (cm)</th>\n",
              "      <td>-0.117570</td>\n",
              "      <td>1.000000</td>\n",
              "      <td>-0.428440</td>\n",
              "      <td>-0.366126</td>\n",
              "    </tr>\n",
              "    <tr>\n",
              "      <th>petal length (cm)</th>\n",
              "      <td>0.871754</td>\n",
              "      <td>-0.428440</td>\n",
              "      <td>1.000000</td>\n",
              "      <td>0.962865</td>\n",
              "    </tr>\n",
              "    <tr>\n",
              "      <th>petal width (cm)</th>\n",
              "      <td>0.817941</td>\n",
              "      <td>-0.366126</td>\n",
              "      <td>0.962865</td>\n",
              "      <td>1.000000</td>\n",
              "    </tr>\n",
              "  </tbody>\n",
              "</table>\n",
              "</div>\n",
              "      <button class=\"colab-df-convert\" onclick=\"convertToInteractive('df-ae4ec243-ee76-4ee2-92d8-f48e644d8d10')\"\n",
              "              title=\"Convert this dataframe to an interactive table.\"\n",
              "              style=\"display:none;\">\n",
              "        \n",
              "  <svg xmlns=\"http://www.w3.org/2000/svg\" height=\"24px\"viewBox=\"0 0 24 24\"\n",
              "       width=\"24px\">\n",
              "    <path d=\"M0 0h24v24H0V0z\" fill=\"none\"/>\n",
              "    <path d=\"M18.56 5.44l.94 2.06.94-2.06 2.06-.94-2.06-.94-.94-2.06-.94 2.06-2.06.94zm-11 1L8.5 8.5l.94-2.06 2.06-.94-2.06-.94L8.5 2.5l-.94 2.06-2.06.94zm10 10l.94 2.06.94-2.06 2.06-.94-2.06-.94-.94-2.06-.94 2.06-2.06.94z\"/><path d=\"M17.41 7.96l-1.37-1.37c-.4-.4-.92-.59-1.43-.59-.52 0-1.04.2-1.43.59L10.3 9.45l-7.72 7.72c-.78.78-.78 2.05 0 2.83L4 21.41c.39.39.9.59 1.41.59.51 0 1.02-.2 1.41-.59l7.78-7.78 2.81-2.81c.8-.78.8-2.07 0-2.86zM5.41 20L4 18.59l7.72-7.72 1.47 1.35L5.41 20z\"/>\n",
              "  </svg>\n",
              "      </button>\n",
              "      \n",
              "  <style>\n",
              "    .colab-df-container {\n",
              "      display:flex;\n",
              "      flex-wrap:wrap;\n",
              "      gap: 12px;\n",
              "    }\n",
              "\n",
              "    .colab-df-convert {\n",
              "      background-color: #E8F0FE;\n",
              "      border: none;\n",
              "      border-radius: 50%;\n",
              "      cursor: pointer;\n",
              "      display: none;\n",
              "      fill: #1967D2;\n",
              "      height: 32px;\n",
              "      padding: 0 0 0 0;\n",
              "      width: 32px;\n",
              "    }\n",
              "\n",
              "    .colab-df-convert:hover {\n",
              "      background-color: #E2EBFA;\n",
              "      box-shadow: 0px 1px 2px rgba(60, 64, 67, 0.3), 0px 1px 3px 1px rgba(60, 64, 67, 0.15);\n",
              "      fill: #174EA6;\n",
              "    }\n",
              "\n",
              "    [theme=dark] .colab-df-convert {\n",
              "      background-color: #3B4455;\n",
              "      fill: #D2E3FC;\n",
              "    }\n",
              "\n",
              "    [theme=dark] .colab-df-convert:hover {\n",
              "      background-color: #434B5C;\n",
              "      box-shadow: 0px 1px 3px 1px rgba(0, 0, 0, 0.15);\n",
              "      filter: drop-shadow(0px 1px 2px rgba(0, 0, 0, 0.3));\n",
              "      fill: #FFFFFF;\n",
              "    }\n",
              "  </style>\n",
              "\n",
              "      <script>\n",
              "        const buttonEl =\n",
              "          document.querySelector('#df-ae4ec243-ee76-4ee2-92d8-f48e644d8d10 button.colab-df-convert');\n",
              "        buttonEl.style.display =\n",
              "          google.colab.kernel.accessAllowed ? 'block' : 'none';\n",
              "\n",
              "        async function convertToInteractive(key) {\n",
              "          const element = document.querySelector('#df-ae4ec243-ee76-4ee2-92d8-f48e644d8d10');\n",
              "          const dataTable =\n",
              "            await google.colab.kernel.invokeFunction('convertToInteractive',\n",
              "                                                     [key], {});\n",
              "          if (!dataTable) return;\n",
              "\n",
              "          const docLinkHtml = 'Like what you see? Visit the ' +\n",
              "            '<a target=\"_blank\" href=https://colab.research.google.com/notebooks/data_table.ipynb>data table notebook</a>'\n",
              "            + ' to learn more about interactive tables.';\n",
              "          element.innerHTML = '';\n",
              "          dataTable['output_type'] = 'display_data';\n",
              "          await google.colab.output.renderOutput(dataTable, element);\n",
              "          const docLink = document.createElement('div');\n",
              "          docLink.innerHTML = docLinkHtml;\n",
              "          element.appendChild(docLink);\n",
              "        }\n",
              "      </script>\n",
              "    </div>\n",
              "  </div>\n",
              "  "
            ]
          },
          "metadata": {},
          "execution_count": 56
        }
      ],
      "source": [
        "df.corr()"
      ]
    },
    {
      "cell_type": "markdown",
      "metadata": {
        "id": "jpskEjKC0eP4"
      },
      "source": [
        "Оставим длину чашелистника и ширину чашелистника"
      ]
    },
    {
      "cell_type": "code",
      "execution_count": 57,
      "metadata": {
        "id": "Ldet0g1y0msz"
      },
      "outputs": [],
      "source": [
        "X = df.drop(columns=['target'])[['sepal length (cm)', 'sepal width (cm)']].rename(columns={'sepal length (cm)': 0, 'sepal width (cm)': 1})\n",
        "y = df.target.map({'setosa': 0, 'versicolor': 1, 'virginica': 2})\n",
        "X_train, X_test, y_train, y_test = train_test_split(X, y, train_size=0.5, random_state=42)"
      ]
    },
    {
      "cell_type": "code",
      "execution_count": 58,
      "metadata": {
        "id": "kZQQke-fz43A"
      },
      "outputs": [],
      "source": [
        "import matplotlib.pyplot as plt\n",
        "\n",
        "from sklearn.metrics import accuracy_score\n",
        "from matplotlib.colors import ListedColormap\n",
        "\n",
        "\n",
        "def get_meshgrid(data, step=.05, border=.5,):\n",
        "    x_min, x_max = data.iloc[:, 0].min() - border, data.iloc[:, 0].max() + border\n",
        "    y_min, y_max = data.iloc[:, 1].min() - border, data.iloc[:, 1].max() + border\n",
        "    \n",
        "    return np.meshgrid(np.arange(x_min, x_max, step), np.arange(y_min, y_max, step))\n",
        "\n",
        "def plot_decision_surface(estimator, train_data, train_labels, test_data, test_labels):\n",
        "    estimator.fit(train_data, train_labels)\n",
        "    \n",
        "    plt.figure(figsize = (16, 6))\n",
        "    light_colors = ListedColormap(['lightyellow','lightcoral','lightgreen'])\n",
        "    colors = ListedColormap(['yellow', 'red', 'green'])\n",
        "    \n",
        "    #plot decision surface on the train data \n",
        "    plt.subplot(1,2,1)\n",
        "    xx, yy = get_meshgrid(train_data)\n",
        "    mesh_predictions = np.array(estimator.predict(np.c_[xx.ravel(), yy.ravel()])).reshape(xx.shape)\n",
        "    plt.pcolormesh(xx, yy, mesh_predictions, cmap=light_colors)\n",
        "    plt.scatter(train_data.iloc[:, 0], train_data.iloc[:, 1], c=train_labels, s=40, cmap=colors)\n",
        "    plt.title('Train data, accuracy={}'.format(accuracy_score(train_labels, estimator.predict(train_data))))\n",
        "    \n",
        "    #plot decision surface on the test data\n",
        "    plt.subplot(1,2,2)\n",
        "    plt.pcolormesh(xx, yy, mesh_predictions, cmap=light_colors)\n",
        "    plt.scatter(test_data.iloc[:, 0], test_data.iloc[:, 1], c=test_labels, s=40, cmap=colors)\n",
        "    plt.title('Test data, accuracy={}'.format(accuracy_score(test_labels, estimator.predict(test_data))))"
      ]
    },
    {
      "cell_type": "code",
      "execution_count": 59,
      "metadata": {
        "id": "ChdSBwtn05tn",
        "colab": {
          "base_uri": "https://localhost:8080/",
          "height": 545
        },
        "outputId": "f0f9d950-c0e6-4a1a-b0c6-510d75e1c67f"
      },
      "outputs": [
        {
          "output_type": "display_data",
          "data": {
            "text/plain": [
              "<Figure size 1600x600 with 2 Axes>"
            ],
            "image/png": "[encoded data removed]"
          },
          "metadata": {}
        }
      ],
      "source": [
        "sklearn_tree = DecisionTreeClassifier(max_depth=2)\n",
        "\n",
        "plot_decision_surface(sklearn_tree, X_train, y_train, X_test, y_test)"
      ]
    },
    {
      "cell_type": "code",
      "execution_count": 60,
      "metadata": {
        "id": "2mIyMEI51Mzz",
        "colab": {
          "base_uri": "https://localhost:8080/",
          "height": 545
        },
        "outputId": "573abc96-fa36-44f7-bd07-092c5e1579bd"
      },
      "outputs": [
        {
          "output_type": "display_data",
          "data": {
            "text/plain": [
              "<Figure size 1600x600 with 2 Axes>"
            ],
            "image/png": "[encoded data removed]"
          },
          "metadata": {}
        }
      ],
      "source": [
        "sklearn_tree = DecisionTreeClassifier(max_depth=100)\n",
        "\n",
        "plot_decision_surface(sklearn_tree, X_train, y_train, X_test, y_test)"
      ]
    },
    {
      "cell_type": "markdown",
      "metadata": {
        "id": "JvV2bGsn4ZOF"
      },
      "source": [
        "Если сравнить эти четыре картинки, то можно заметить, как возрастает сложность разделяющей границы в зависимости от глубины дерева. При этом обратите внимание, что все разделяющие границы проходят по прямой относительно оси. Это связано с тем, что разделяющее правило $X < x_0$ соответствует прямой, проходящей через $x_0$ перпендикулярно оси $X$."
      ]
    }
  ],
  "metadata": {
    "colab": {
      "provenance": []
    },
    "kernelspec": {
      "display_name": "Python 3",
      "name": "python3"
    },
    "language_info": {
      "codemirror_mode": {
        "name": "ipython",
        "version": 3
      },
      "file_extension": ".py",
      "mimetype": "text/x-python",
      "name": "python",
      "nbconvert_exporter": "python",
      "pygments_lexer": "ipython3",
      "version": "3.8.15"
    }
  },
  "nbformat": 4,
  "nbformat_minor": 0
}