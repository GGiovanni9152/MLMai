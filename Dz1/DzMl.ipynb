{
  "cells": [
    {
      "cell_type": "markdown",
      "id": "5372eb6b",
      "metadata": {
        "id": "5372eb6b"
      },
      "source": [
        "# Домашняя работа по регуляризации и оптимизации\n",
        "\n",
        "Ниже приводится корпус данных с двумя метками: 1 и -1. К данным применяется линейная модель классификации:\n",
        "\n",
        "$f(x, \\theta) = x_1 \\theta_1 + x_2 \\theta_2 + \\theta_3.$\n",
        "\n",
        "Предлагается подобрать параметры $\\theta$ минимизируя следующую функцию ошибки:\n",
        "\n",
        "$\\mathcal{L}(\\theta) = 0.1 \\|\\theta\\|^2 + \\frac{1}{N}\\sum\\limits_{i=1}^N \\max(0, 1 - y_i f(x_i, \\theta)).$\n",
        "\n",
        "Для оптимизации предлагается использовать метод градиентного спуска с 1000 шагами размера $0.1$ из начальной точки $(1, 1, 0)$."
      ]
    },
    {
      "cell_type": "code",
      "execution_count": 3,
      "id": "84be44bf",
      "metadata": {
        "id": "84be44bf"
      },
      "outputs": [],
      "source": [
        "import numpy as np\n",
        "import yaml"
      ]
    },
    {
      "cell_type": "code",
      "execution_count": 10,
      "id": "8e381337",
      "metadata": {
        "colab": {
          "base_uri": "https://localhost:8080/"
        },
        "id": "8e381337",
        "outputId": "ddb5b420-db17-499d-f4b5-2fb6987022b8"
      },
      "outputs": [
        {
          "output_type": "stream",
          "name": "stdout",
          "text": [
            "Prediction: [1.0, 2.0, 1.0, 0.0, -0.5]\n",
            "Loss: 0.5\n"
          ]
        }
      ],
      "source": [
        "X = np.array([\n",
        "    [0, 1],\n",
        "    [1, 1],\n",
        "    [1, 0],\n",
        "    [-0.5, 0.5],\n",
        "    [0, -0.5]\n",
        "])\n",
        "\n",
        "y = np.array([1, 1, 1, -1, -1])\n",
        "\n",
        "theta0 = np.array([1.0, 1.0, 0.0])\n",
        "\n",
        "lr = 0.1\n",
        "\n",
        "def f(X, theta):\n",
        "    return X[0] * theta0[0] + X[1] * theta0[1] + theta0[2]\n",
        "\n",
        "def loss(X, y, theta):\n",
        "    theta = np.asarray(theta)\n",
        "    norm = (theta ** 2).sum()\n",
        "    summa = 0\n",
        "    for i in range(len(X)):\n",
        "        summa += max(0, 1 - y[i] * f(X[i], theta))\n",
        "    #deltas = y * f(X, theta)\n",
        "    return 0.1 * norm + (1/5) * summa\n",
        "\n",
        "print(\"Prediction:\", [f(X[i], theta0) for i in range(len(X))])\n",
        "print(\"Loss:\", loss(X, y, theta0))"
      ]
    },
    {
      "cell_type": "code",
      "execution_count": 18,
      "id": "ca79f1da",
      "metadata": {
        "id": "ca79f1da"
      },
      "outputs": [],
      "source": [
        "def step(X, y, tet):\n",
        "    grad = np.array([0, 0, 0])\n",
        "    for i in range(len(tet)):\n",
        "        grad[i] = 0.1 * 2 * tet[i]\n",
        "        for j in range(len(X)):\n",
        "            summa = 0\n",
        "            if (y[j] * f(X[j], tet) < 1):\n",
        "                if (i == 2):\n",
        "                    summa = summa + y[j]\n",
        "                else:\n",
        "                    summa = summa + y[j] * X[j][i]\n",
        "            grad[i] -= (1/5) * summa\n",
        "    return lr * grad\n",
        "\n"
      ]
    },
    {
      "cell_type": "code",
      "source": [
        "def spusk(X, y, tet):\n",
        "    for i in range (1000):\n",
        "        tet -= step(X, y, tet)\n",
        "spusk(X, y, theta0)"
      ],
      "metadata": {
        "id": "L_loOsM6Hvur"
      },
      "id": "L_loOsM6Hvur",
      "execution_count": 19,
      "outputs": []
    },
    {
      "cell_type": "code",
      "execution_count": 21,
      "id": "011ca5b7",
      "metadata": {
        "colab": {
          "base_uri": "https://localhost:8080/"
        },
        "id": "011ca5b7",
        "outputId": "af95f8f2-5a9b-444f-8cdc-c084b36da955"
      },
      "outputs": [
        {
          "output_type": "stream",
          "name": "stdout",
          "text": [
            "Prediction: [1.0, 2.0, 1.0, 0.0, -0.5]\n",
            "Loss: 0.5\n"
          ]
        }
      ],
      "source": [
        "print(\"Prediction:\", [f(X[i], theta0) for i in range(len(X))])\n",
        "print(\"Loss:\", loss(X, y, theta0))\n",
        "\n",
        "with open(\"submission.yaml\", \"w\") as fp:\n",
        "    yaml.safe_dump({\"tasks\": [{\"task1\": {\"answer\": theta0.tolist()}}]}, fp)"
      ]
    }
  ],
  "metadata": {
    "accelerator": "GPU",
    "colab": {
      "provenance": []
    },
    "kernelspec": {
      "display_name": "Python 3",
      "language": "python",
      "name": "python3"
    },
    "language_info": {
      "codemirror_mode": {
        "name": "ipython",
        "version": 3
      },
      "file_extension": ".py",
      "mimetype": "text/x-python",
      "name": "python",
      "nbconvert_exporter": "python",
      "pygments_lexer": "ipython3",
      "version": "3.8.9"
    }
  },
  "nbformat": 4,
  "nbformat_minor": 5
}